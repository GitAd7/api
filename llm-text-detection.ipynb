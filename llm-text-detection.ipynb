{
 "cells": [
  {
   "cell_type": "code",
   "execution_count": 1,
   "id": "29b729ae",
   "metadata": {
    "_cell_guid": "b1076dfc-b9ad-4769-8c92-a6c4dae69d19",
    "_uuid": "8f2839f25d086af736a60e9eeb907d3b93b6e0e5",
    "execution": {
     "iopub.execute_input": "2024-01-16T14:20:07.330228Z",
     "iopub.status.busy": "2024-01-16T14:20:07.329772Z",
     "iopub.status.idle": "2024-01-16T14:20:08.319941Z",
     "shell.execute_reply": "2024-01-16T14:20:08.318116Z"
    },
    "papermill": {
     "duration": 1.002723,
     "end_time": "2024-01-16T14:20:08.323188",
     "exception": false,
     "start_time": "2024-01-16T14:20:07.320465",
     "status": "completed"
    },
    "tags": []
   },
   "outputs": [
    {
     "name": "stdout",
     "output_type": "stream",
     "text": [
      "/kaggle/input/daigt-v3-train-dataset/train_v3_drcat_01.csv\n",
      "/kaggle/input/daigt-v3-train-dataset/train_v3_drcat_02.csv\n",
      "/kaggle/input/distil_bert/keras/distil_bert_base_en_uncased/1/config.json\n",
      "/kaggle/input/distil_bert/keras/distil_bert_base_en_uncased/1/tokenizer.json\n",
      "/kaggle/input/distil_bert/keras/distil_bert_base_en_uncased/1/metadata.json\n",
      "/kaggle/input/distil_bert/keras/distil_bert_base_en_uncased/1/model.weights.h5\n",
      "/kaggle/input/distil_bert/keras/distil_bert_base_en_uncased/1/assets/tokenizer/vocabulary.txt\n",
      "/kaggle/input/llm-detect-ai-generated-text/sample_submission.csv\n",
      "/kaggle/input/llm-detect-ai-generated-text/train_prompts.csv\n",
      "/kaggle/input/llm-detect-ai-generated-text/test_essays.csv\n",
      "/kaggle/input/llm-detect-ai-generated-text/train_essays.csv\n"
     ]
    }
   ],
   "source": [
    "# This Python 3 environment comes with many helpful analytics libraries installed\n",
    "# It is defined by the kaggle/python Docker image: https://github.com/kaggle/docker-python\n",
    "# For example, here's several helpful packages to load\n",
    "\n",
    "import numpy as np # linear algebra\n",
    "import pandas as pd # data processing, CSV file I/O (e.g. pd.read_csv)\n",
    "\n",
    "# Input data files are available in the read-only \"../input/\" directory\n",
    "# For example, running this (by clicking run or pressing Shift+Enter) will list all files under the input directory\n",
    "\n",
    "import os\n",
    "for dirname, _, filenames in os.walk('/kaggle/input'):\n",
    "    for filename in filenames:\n",
    "        print(os.path.join(dirname, filename))\n",
    "\n",
    "# You can write up to 20GB to the current directory (/kaggle/working/) that gets preserved as output when you create a version using \"Save & Run All\" \n",
    "# You can also write temporary files to /kaggle/temp/, but they won't be saved outside of the current session"
   ]
  },
  {
   "cell_type": "code",
   "execution_count": 2,
   "id": "aaa58ec4",
   "metadata": {
    "execution": {
     "iopub.execute_input": "2024-01-16T14:20:08.340397Z",
     "iopub.status.busy": "2024-01-16T14:20:08.339181Z",
     "iopub.status.idle": "2024-01-16T14:20:26.338684Z",
     "shell.execute_reply": "2024-01-16T14:20:26.337444Z"
    },
    "papermill": {
     "duration": 18.010433,
     "end_time": "2024-01-16T14:20:26.341144",
     "exception": false,
     "start_time": "2024-01-16T14:20:08.330711",
     "status": "completed"
    },
    "tags": []
   },
   "outputs": [
    {
     "name": "stdout",
     "output_type": "stream",
     "text": [
      "Using TensorFlow backend\n",
      "Tensorflow Version: 2.13.0\n"
     ]
    }
   ],
   "source": [
    "# Importing libraries for basic visualization\n",
    "\n",
    "import matplotlib.pyplot as plt\n",
    "import seaborn as sns\n",
    "\n",
    "# Importing Tensorflow \n",
    "import tensorflow as tf\n",
    "from tensorflow import keras\n",
    "import keras_nlp\n",
    "print('Tensorflow Version:', tf.__version__)"
   ]
  },
  {
   "cell_type": "code",
   "execution_count": 3,
   "id": "1aba4347",
   "metadata": {
    "execution": {
     "iopub.execute_input": "2024-01-16T14:20:26.359684Z",
     "iopub.status.busy": "2024-01-16T14:20:26.358756Z",
     "iopub.status.idle": "2024-01-16T14:20:26.482985Z",
     "shell.execute_reply": "2024-01-16T14:20:26.481998Z"
    },
    "papermill": {
     "duration": 0.136251,
     "end_time": "2024-01-16T14:20:26.485379",
     "exception": false,
     "start_time": "2024-01-16T14:20:26.349128",
     "status": "completed"
    },
    "tags": []
   },
   "outputs": [
    {
     "data": {
      "text/html": [
       "<div>\n",
       "<style scoped>\n",
       "    .dataframe tbody tr th:only-of-type {\n",
       "        vertical-align: middle;\n",
       "    }\n",
       "\n",
       "    .dataframe tbody tr th {\n",
       "        vertical-align: top;\n",
       "    }\n",
       "\n",
       "    .dataframe thead th {\n",
       "        text-align: right;\n",
       "    }\n",
       "</style>\n",
       "<table border=\"1\" class=\"dataframe\">\n",
       "  <thead>\n",
       "    <tr style=\"text-align: right;\">\n",
       "      <th></th>\n",
       "      <th>id</th>\n",
       "      <th>prompt_id</th>\n",
       "      <th>text</th>\n",
       "      <th>generated</th>\n",
       "    </tr>\n",
       "  </thead>\n",
       "  <tbody>\n",
       "    <tr>\n",
       "      <th>0</th>\n",
       "      <td>0059830c</td>\n",
       "      <td>0</td>\n",
       "      <td>Cars. Cars have been around since they became ...</td>\n",
       "      <td>0</td>\n",
       "    </tr>\n",
       "    <tr>\n",
       "      <th>1</th>\n",
       "      <td>005db917</td>\n",
       "      <td>0</td>\n",
       "      <td>Transportation is a large necessity in most co...</td>\n",
       "      <td>0</td>\n",
       "    </tr>\n",
       "    <tr>\n",
       "      <th>2</th>\n",
       "      <td>008f63e3</td>\n",
       "      <td>0</td>\n",
       "      <td>\"America's love affair with it's vehicles seem...</td>\n",
       "      <td>0</td>\n",
       "    </tr>\n",
       "    <tr>\n",
       "      <th>3</th>\n",
       "      <td>00940276</td>\n",
       "      <td>0</td>\n",
       "      <td>How often do you ride in a car? Do you drive a...</td>\n",
       "      <td>0</td>\n",
       "    </tr>\n",
       "    <tr>\n",
       "      <th>4</th>\n",
       "      <td>00c39458</td>\n",
       "      <td>0</td>\n",
       "      <td>Cars are a wonderful thing. They are perhaps o...</td>\n",
       "      <td>0</td>\n",
       "    </tr>\n",
       "  </tbody>\n",
       "</table>\n",
       "</div>"
      ],
      "text/plain": [
       "         id  prompt_id                                               text  \\\n",
       "0  0059830c          0  Cars. Cars have been around since they became ...   \n",
       "1  005db917          0  Transportation is a large necessity in most co...   \n",
       "2  008f63e3          0  \"America's love affair with it's vehicles seem...   \n",
       "3  00940276          0  How often do you ride in a car? Do you drive a...   \n",
       "4  00c39458          0  Cars are a wonderful thing. They are perhaps o...   \n",
       "\n",
       "   generated  \n",
       "0          0  \n",
       "1          0  \n",
       "2          0  \n",
       "3          0  \n",
       "4          0  "
      ]
     },
     "execution_count": 3,
     "metadata": {},
     "output_type": "execute_result"
    }
   ],
   "source": [
    "trn_data = pd.read_csv('/kaggle/input/llm-detect-ai-generated-text/train_essays.csv')\n",
    "trn_data.head()"
   ]
  },
  {
   "cell_type": "code",
   "execution_count": 4,
   "id": "4fb41bdb",
   "metadata": {
    "execution": {
     "iopub.execute_input": "2024-01-16T14:20:26.504080Z",
     "iopub.status.busy": "2024-01-16T14:20:26.503247Z",
     "iopub.status.idle": "2024-01-16T14:20:26.849274Z",
     "shell.execute_reply": "2024-01-16T14:20:26.848057Z"
    },
    "papermill": {
     "duration": 0.358153,
     "end_time": "2024-01-16T14:20:26.851683",
     "exception": false,
     "start_time": "2024-01-16T14:20:26.493530",
     "status": "completed"
    },
    "tags": []
   },
   "outputs": [
    {
     "data": {
      "text/plain": [
       "Text(0.5, 1.0, 'Distribution of prompt ID')"
      ]
     },
     "execution_count": 4,
     "metadata": {},
     "output_type": "execute_result"
    },
    {
     "data": {
      "image/png": "[encoded data removed]",
      "text/plain": [
       "<Figure size 1200x400 with 1 Axes>"
      ]
     },
     "metadata": {},
     "output_type": "display_data"
    }
   ],
   "source": [
    "f, ax = plt.subplots(figsize=(12, 4))\n",
    "\n",
    "sns.despine()\n",
    "ax = sns.countplot(data=trn_data,\n",
    "                   x=\"prompt_id\")\n",
    "\n",
    "abs_values = trn_data['prompt_id'].value_counts().values\n",
    "\n",
    "ax.bar_label(container=ax.containers[0], labels=abs_values)\n",
    "\n",
    "ax.set_title(\"Distribution of prompt ID\")"
   ]
  },
  {
   "cell_type": "code",
   "execution_count": 5,
   "id": "6cf97e97",
   "metadata": {
    "execution": {
     "iopub.execute_input": "2024-01-16T14:20:26.872885Z",
     "iopub.status.busy": "2024-01-16T14:20:26.872012Z",
     "iopub.status.idle": "2024-01-16T14:20:26.883656Z",
     "shell.execute_reply": "2024-01-16T14:20:26.882415Z"
    },
    "papermill": {
     "duration": 0.024565,
     "end_time": "2024-01-16T14:20:26.886090",
     "exception": false,
     "start_time": "2024-01-16T14:20:26.861525",
     "status": "completed"
    },
    "tags": []
   },
   "outputs": [
    {
     "data": {
      "text/plain": [
       "generated\n",
       "0    1375\n",
       "1       3\n",
       "Name: count, dtype: int64"
      ]
     },
     "execution_count": 5,
     "metadata": {},
     "output_type": "execute_result"
    }
   ],
   "source": [
    "trn_data['generated'].value_counts()"
   ]
  },
  {
   "cell_type": "markdown",
   "id": "2fdda506",
   "metadata": {
    "papermill": {
     "duration": 0.008087,
     "end_time": "2024-01-16T14:20:26.902922",
     "exception": false,
     "start_time": "2024-01-16T14:20:26.894835",
     "status": "completed"
    },
    "tags": []
   },
   "source": [
    "Most of the text is written is by humans(1375) and that of AI is very small(3)."
   ]
  },
  {
   "cell_type": "code",
   "execution_count": 6,
   "id": "7b1bc5f5",
   "metadata": {
    "execution": {
     "iopub.execute_input": "2024-01-16T14:20:26.922641Z",
     "iopub.status.busy": "2024-01-16T14:20:26.921441Z",
     "iopub.status.idle": "2024-01-16T14:20:27.213570Z",
     "shell.execute_reply": "2024-01-16T14:20:27.212277Z"
    },
    "papermill": {
     "duration": 0.304649,
     "end_time": "2024-01-16T14:20:27.216108",
     "exception": false,
     "start_time": "2024-01-16T14:20:26.911459",
     "status": "completed"
    },
    "tags": []
   },
   "outputs": [
    {
     "data": {
      "text/plain": [
       "Text(0.5, 1.0, 'Distribution of Generated Text')"
      ]
     },
     "execution_count": 6,
     "metadata": {},
     "output_type": "execute_result"
    },
    {
     "data": {
      "image/png": "[encoded data removed]",
      "text/plain": [
       "<Figure size 1200x400 with 1 Axes>"
      ]
     },
     "metadata": {},
     "output_type": "display_data"
    }
   ],
   "source": [
    "f, ax = plt.subplots(figsize=(12, 4))\n",
    "\n",
    "sns.despine()\n",
    "ax = sns.countplot(data=trn_data,\n",
    "                   x=\"generated\")\n",
    "\n",
    "abs_values = trn_data['generated'].value_counts().values\n",
    "\n",
    "ax.bar_label(container=ax.containers[0], labels=abs_values)\n",
    "\n",
    "ax.set_title(\"Distribution of Generated Text\")"
   ]
  },
  {
   "cell_type": "markdown",
   "id": "a4b6902f",
   "metadata": {
    "papermill": {
     "duration": 0.00892,
     "end_time": "2024-01-16T14:20:27.234724",
     "exception": false,
     "start_time": "2024-01-16T14:20:27.225804",
     "status": "completed"
    },
    "tags": []
   },
   "source": [
    "since there is a lot of unbalanced data present in the train data, applying balancing methods will only lead to overfitting of the data, which will lead to wrong prediction."
   ]
  },
  {
   "cell_type": "code",
   "execution_count": 7,
   "id": "8e31d8ca",
   "metadata": {
    "execution": {
     "iopub.execute_input": "2024-01-16T14:20:27.253878Z",
     "iopub.status.busy": "2024-01-16T14:20:27.253448Z",
     "iopub.status.idle": "2024-01-16T14:20:27.270739Z",
     "shell.execute_reply": "2024-01-16T14:20:27.269620Z"
    },
    "papermill": {
     "duration": 0.029871,
     "end_time": "2024-01-16T14:20:27.273217",
     "exception": false,
     "start_time": "2024-01-16T14:20:27.243346",
     "status": "completed"
    },
    "tags": []
   },
   "outputs": [
    {
     "data": {
      "text/html": [
       "<div>\n",
       "<style scoped>\n",
       "    .dataframe tbody tr th:only-of-type {\n",
       "        vertical-align: middle;\n",
       "    }\n",
       "\n",
       "    .dataframe tbody tr th {\n",
       "        vertical-align: top;\n",
       "    }\n",
       "\n",
       "    .dataframe thead th {\n",
       "        text-align: right;\n",
       "    }\n",
       "</style>\n",
       "<table border=\"1\" class=\"dataframe\">\n",
       "  <thead>\n",
       "    <tr style=\"text-align: right;\">\n",
       "      <th></th>\n",
       "      <th>prompt_id</th>\n",
       "      <th>prompt_name</th>\n",
       "      <th>instructions</th>\n",
       "      <th>source_text</th>\n",
       "    </tr>\n",
       "  </thead>\n",
       "  <tbody>\n",
       "    <tr>\n",
       "      <th>0</th>\n",
       "      <td>0</td>\n",
       "      <td>Car-free cities</td>\n",
       "      <td>Write an explanatory essay to inform fellow ci...</td>\n",
       "      <td># In German Suburb, Life Goes On Without Cars ...</td>\n",
       "    </tr>\n",
       "    <tr>\n",
       "      <th>1</th>\n",
       "      <td>1</td>\n",
       "      <td>Does the electoral college work?</td>\n",
       "      <td>Write a letter to your state senator in which ...</td>\n",
       "      <td># What Is the Electoral College? by the Office...</td>\n",
       "    </tr>\n",
       "  </tbody>\n",
       "</table>\n",
       "</div>"
      ],
      "text/plain": [
       "   prompt_id                       prompt_name  \\\n",
       "0          0                   Car-free cities   \n",
       "1          1  Does the electoral college work?   \n",
       "\n",
       "                                        instructions  \\\n",
       "0  Write an explanatory essay to inform fellow ci...   \n",
       "1  Write a letter to your state senator in which ...   \n",
       "\n",
       "                                         source_text  \n",
       "0  # In German Suburb, Life Goes On Without Cars ...  \n",
       "1  # What Is the Electoral College? by the Office...  "
      ]
     },
     "execution_count": 7,
     "metadata": {},
     "output_type": "execute_result"
    }
   ],
   "source": [
    "# Reading prompt file to check the data \n",
    "prompt_dta = pd.read_csv('/kaggle/input/llm-detect-ai-generated-text/train_prompts.csv')\n",
    "prompt_dta.head()\n",
    "# It only contains two propmts."
   ]
  },
  {
   "cell_type": "code",
   "execution_count": 8,
   "id": "3f64964b",
   "metadata": {
    "execution": {
     "iopub.execute_input": "2024-01-16T14:20:27.293241Z",
     "iopub.status.busy": "2024-01-16T14:20:27.292784Z",
     "iopub.status.idle": "2024-01-16T14:20:27.307436Z",
     "shell.execute_reply": "2024-01-16T14:20:27.306279Z"
    },
    "papermill": {
     "duration": 0.027942,
     "end_time": "2024-01-16T14:20:27.310106",
     "exception": false,
     "start_time": "2024-01-16T14:20:27.282164",
     "status": "completed"
    },
    "tags": []
   },
   "outputs": [
    {
     "data": {
      "text/html": [
       "<div>\n",
       "<style scoped>\n",
       "    .dataframe tbody tr th:only-of-type {\n",
       "        vertical-align: middle;\n",
       "    }\n",
       "\n",
       "    .dataframe tbody tr th {\n",
       "        vertical-align: top;\n",
       "    }\n",
       "\n",
       "    .dataframe thead th {\n",
       "        text-align: right;\n",
       "    }\n",
       "</style>\n",
       "<table border=\"1\" class=\"dataframe\">\n",
       "  <thead>\n",
       "    <tr style=\"text-align: right;\">\n",
       "      <th></th>\n",
       "      <th>id</th>\n",
       "      <th>prompt_id</th>\n",
       "      <th>text</th>\n",
       "    </tr>\n",
       "  </thead>\n",
       "  <tbody>\n",
       "    <tr>\n",
       "      <th>0</th>\n",
       "      <td>0000aaaa</td>\n",
       "      <td>2</td>\n",
       "      <td>Aaa bbb ccc.</td>\n",
       "    </tr>\n",
       "    <tr>\n",
       "      <th>1</th>\n",
       "      <td>1111bbbb</td>\n",
       "      <td>3</td>\n",
       "      <td>Bbb ccc ddd.</td>\n",
       "    </tr>\n",
       "    <tr>\n",
       "      <th>2</th>\n",
       "      <td>2222cccc</td>\n",
       "      <td>4</td>\n",
       "      <td>CCC ddd eee.</td>\n",
       "    </tr>\n",
       "  </tbody>\n",
       "</table>\n",
       "</div>"
      ],
      "text/plain": [
       "         id  prompt_id          text\n",
       "0  0000aaaa          2  Aaa bbb ccc.\n",
       "1  1111bbbb          3  Bbb ccc ddd.\n",
       "2  2222cccc          4  CCC ddd eee."
      ]
     },
     "execution_count": 8,
     "metadata": {},
     "output_type": "execute_result"
    }
   ],
   "source": [
    "# Reading test data\n",
    "tst_data = pd.read_csv('/kaggle/input/llm-detect-ai-generated-text/test_essays.csv')\n",
    "tst_data.head()"
   ]
  },
  {
   "cell_type": "code",
   "execution_count": 9,
   "id": "a067ef6a",
   "metadata": {
    "execution": {
     "iopub.execute_input": "2024-01-16T14:20:27.330094Z",
     "iopub.status.busy": "2024-01-16T14:20:27.329671Z",
     "iopub.status.idle": "2024-01-16T14:20:27.352723Z",
     "shell.execute_reply": "2024-01-16T14:20:27.351079Z"
    },
    "papermill": {
     "duration": 0.036039,
     "end_time": "2024-01-16T14:20:27.355278",
     "exception": false,
     "start_time": "2024-01-16T14:20:27.319239",
     "status": "completed"
    },
    "tags": []
   },
   "outputs": [
    {
     "name": "stdout",
     "output_type": "stream",
     "text": [
      "<class 'pandas.core.frame.DataFrame'>\n",
      "RangeIndex: 3 entries, 0 to 2\n",
      "Data columns (total 3 columns):\n",
      " #   Column     Non-Null Count  Dtype \n",
      "---  ------     --------------  ----- \n",
      " 0   id         3 non-null      object\n",
      " 1   prompt_id  3 non-null      int64 \n",
      " 2   text       3 non-null      object\n",
      "dtypes: int64(1), object(2)\n",
      "memory usage: 200.0+ bytes\n"
     ]
    }
   ],
   "source": [
    "tst_data.info()"
   ]
  },
  {
   "cell_type": "markdown",
   "id": "37c0f3a7",
   "metadata": {
    "papermill": {
     "duration": 0.009258,
     "end_time": "2024-01-16T14:20:27.373539",
     "exception": false,
     "start_time": "2024-01-16T14:20:27.364281",
     "status": "completed"
    },
    "tags": []
   },
   "source": [
    "### Adding New data to train"
   ]
  },
  {
   "cell_type": "code",
   "execution_count": 10,
   "id": "ea7ce9c8",
   "metadata": {
    "execution": {
     "iopub.execute_input": "2024-01-16T14:20:27.393392Z",
     "iopub.status.busy": "2024-01-16T14:20:27.392946Z",
     "iopub.status.idle": "2024-01-16T14:20:31.081597Z",
     "shell.execute_reply": "2024-01-16T14:20:31.080212Z"
    },
    "papermill": {
     "duration": 3.701653,
     "end_time": "2024-01-16T14:20:31.084140",
     "exception": false,
     "start_time": "2024-01-16T14:20:27.382487",
     "status": "completed"
    },
    "tags": []
   },
   "outputs": [
    {
     "data": {
      "text/html": [
       "<div>\n",
       "<style scoped>\n",
       "    .dataframe tbody tr th:only-of-type {\n",
       "        vertical-align: middle;\n",
       "    }\n",
       "\n",
       "    .dataframe tbody tr th {\n",
       "        vertical-align: top;\n",
       "    }\n",
       "\n",
       "    .dataframe thead th {\n",
       "        text-align: right;\n",
       "    }\n",
       "</style>\n",
       "<table border=\"1\" class=\"dataframe\">\n",
       "  <thead>\n",
       "    <tr style=\"text-align: right;\">\n",
       "      <th></th>\n",
       "      <th>text</th>\n",
       "      <th>label</th>\n",
       "      <th>prompt_name</th>\n",
       "      <th>source</th>\n",
       "      <th>RDizzl3_seven</th>\n",
       "    </tr>\n",
       "  </thead>\n",
       "  <tbody>\n",
       "    <tr>\n",
       "      <th>0</th>\n",
       "      <td>Phones\\n\\nModern humans today are always on th...</td>\n",
       "      <td>0</td>\n",
       "      <td>Phones and driving</td>\n",
       "      <td>persuade_corpus</td>\n",
       "      <td>False</td>\n",
       "    </tr>\n",
       "    <tr>\n",
       "      <th>1</th>\n",
       "      <td>This essay will explain if drivers should or s...</td>\n",
       "      <td>0</td>\n",
       "      <td>Phones and driving</td>\n",
       "      <td>persuade_corpus</td>\n",
       "      <td>False</td>\n",
       "    </tr>\n",
       "    <tr>\n",
       "      <th>2</th>\n",
       "      <td>Driving while the use of cellular devices\\n\\nT...</td>\n",
       "      <td>0</td>\n",
       "      <td>Phones and driving</td>\n",
       "      <td>persuade_corpus</td>\n",
       "      <td>False</td>\n",
       "    </tr>\n",
       "    <tr>\n",
       "      <th>3</th>\n",
       "      <td>Phones &amp; Driving\\n\\nDrivers should not be able...</td>\n",
       "      <td>0</td>\n",
       "      <td>Phones and driving</td>\n",
       "      <td>persuade_corpus</td>\n",
       "      <td>False</td>\n",
       "    </tr>\n",
       "    <tr>\n",
       "      <th>4</th>\n",
       "      <td>Cell Phone Operation While Driving\\n\\nThe abil...</td>\n",
       "      <td>0</td>\n",
       "      <td>Phones and driving</td>\n",
       "      <td>persuade_corpus</td>\n",
       "      <td>False</td>\n",
       "    </tr>\n",
       "  </tbody>\n",
       "</table>\n",
       "</div>"
      ],
      "text/plain": [
       "                                                text  label  \\\n",
       "0  Phones\\n\\nModern humans today are always on th...      0   \n",
       "1  This essay will explain if drivers should or s...      0   \n",
       "2  Driving while the use of cellular devices\\n\\nT...      0   \n",
       "3  Phones & Driving\\n\\nDrivers should not be able...      0   \n",
       "4  Cell Phone Operation While Driving\\n\\nThe abil...      0   \n",
       "\n",
       "          prompt_name           source  RDizzl3_seven  \n",
       "0  Phones and driving  persuade_corpus          False  \n",
       "1  Phones and driving  persuade_corpus          False  \n",
       "2  Phones and driving  persuade_corpus          False  \n",
       "3  Phones and driving  persuade_corpus          False  \n",
       "4  Phones and driving  persuade_corpus          False  "
      ]
     },
     "execution_count": 10,
     "metadata": {},
     "output_type": "execute_result"
    }
   ],
   "source": [
    "df_train_essays_ext = pd.read_csv('/kaggle/input/daigt-v3-train-dataset/train_v3_drcat_01.csv')\n",
    "df_train_essays_ext.head()"
   ]
  },
  {
   "cell_type": "code",
   "execution_count": 11,
   "id": "ea5cd475",
   "metadata": {
    "execution": {
     "iopub.execute_input": "2024-01-16T14:20:31.106262Z",
     "iopub.status.busy": "2024-01-16T14:20:31.105064Z",
     "iopub.status.idle": "2024-01-16T14:20:31.112114Z",
     "shell.execute_reply": "2024-01-16T14:20:31.111099Z"
    },
    "papermill": {
     "duration": 0.020406,
     "end_time": "2024-01-16T14:20:31.114601",
     "exception": false,
     "start_time": "2024-01-16T14:20:31.094195",
     "status": "completed"
    },
    "tags": []
   },
   "outputs": [],
   "source": [
    "# Renaming the label column to generated as it will be easy to concatenate in further steps.\n",
    "df_train_essays_ext.rename(columns = {\"label\":\"generated\"}, inplace=True)"
   ]
  },
  {
   "cell_type": "code",
   "execution_count": 12,
   "id": "baf6f051",
   "metadata": {
    "execution": {
     "iopub.execute_input": "2024-01-16T14:20:31.136038Z",
     "iopub.status.busy": "2024-01-16T14:20:31.135618Z",
     "iopub.status.idle": "2024-01-16T14:20:31.824709Z",
     "shell.execute_reply": "2024-01-16T14:20:31.823465Z"
    },
    "papermill": {
     "duration": 0.702759,
     "end_time": "2024-01-16T14:20:31.827310",
     "exception": false,
     "start_time": "2024-01-16T14:20:31.124551",
     "status": "completed"
    },
    "tags": []
   },
   "outputs": [
    {
     "data": {
      "text/plain": [
       "Text(0.5, 1.0, 'Distribution of Prompt Name')"
      ]
     },
     "execution_count": 12,
     "metadata": {},
     "output_type": "execute_result"
    },
    {
     "data": {
      "image/png": "[encoded data removed]",
      "text/plain": [
       "<Figure size 3500x800 with 1 Axes>"
      ]
     },
     "metadata": {},
     "output_type": "display_data"
    }
   ],
   "source": [
    "f, ax = plt.subplots(figsize=(35, 8))\n",
    "\n",
    "sns.despine()\n",
    "ax = sns.countplot(data=df_train_essays_ext,\n",
    "                   x=\"prompt_name\")\n",
    "\n",
    "abs_values = df_train_essays_ext['prompt_name'].value_counts().values\n",
    "\n",
    "ax.bar_label(container=ax.containers[0], labels=abs_values)\n",
    "\n",
    "ax.set_title(\"Distribution of Prompt Name\")"
   ]
  },
  {
   "cell_type": "code",
   "execution_count": 13,
   "id": "b074087e",
   "metadata": {
    "execution": {
     "iopub.execute_input": "2024-01-16T14:20:31.851295Z",
     "iopub.status.busy": "2024-01-16T14:20:31.850852Z",
     "iopub.status.idle": "2024-01-16T14:20:32.168757Z",
     "shell.execute_reply": "2024-01-16T14:20:32.167512Z"
    },
    "papermill": {
     "duration": 0.3336,
     "end_time": "2024-01-16T14:20:32.171596",
     "exception": false,
     "start_time": "2024-01-16T14:20:31.837996",
     "status": "completed"
    },
    "tags": []
   },
   "outputs": [
    {
     "data": {
      "text/plain": [
       "Text(0.5, 1.0, 'Distribution of Labels')"
      ]
     },
     "execution_count": 13,
     "metadata": {},
     "output_type": "execute_result"
    },
    {
     "data": {
      "image/png": "[encoded data removed]",
      "text/plain": [
       "<Figure size 1200x400 with 1 Axes>"
      ]
     },
     "metadata": {},
     "output_type": "display_data"
    }
   ],
   "source": [
    "f, ax = plt.subplots(figsize=(12, 4))\n",
    "\n",
    "sns.despine()\n",
    "ax = sns.countplot(data=df_train_essays_ext,\n",
    "                   x=\"generated\")\n",
    "\n",
    "abs_values = df_train_essays_ext['generated'].value_counts().values\n",
    "\n",
    "ax.bar_label(container=ax.containers[0], labels=abs_values)\n",
    "\n",
    "ax.set_title(\"Distribution of Labels\")"
   ]
  },
  {
   "cell_type": "markdown",
   "id": "8ac222e3",
   "metadata": {
    "papermill": {
     "duration": 0.010898,
     "end_time": "2024-01-16T14:20:32.194750",
     "exception": false,
     "start_time": "2024-01-16T14:20:32.183852",
     "status": "completed"
    },
    "tags": []
   },
   "source": [
    "Here, the count of Human written text is less than that of AI generated text, so we will concatenate this data to our train dataset."
   ]
  },
  {
   "cell_type": "code",
   "execution_count": 14,
   "id": "8267dd88",
   "metadata": {
    "execution": {
     "iopub.execute_input": "2024-01-16T14:20:32.220399Z",
     "iopub.status.busy": "2024-01-16T14:20:32.219985Z",
     "iopub.status.idle": "2024-01-16T14:20:32.241786Z",
     "shell.execute_reply": "2024-01-16T14:20:32.240564Z"
    },
    "papermill": {
     "duration": 0.037981,
     "end_time": "2024-01-16T14:20:32.244353",
     "exception": false,
     "start_time": "2024-01-16T14:20:32.206372",
     "status": "completed"
    },
    "tags": []
   },
   "outputs": [
    {
     "data": {
      "text/html": [
       "<div>\n",
       "<style scoped>\n",
       "    .dataframe tbody tr th:only-of-type {\n",
       "        vertical-align: middle;\n",
       "    }\n",
       "\n",
       "    .dataframe tbody tr th {\n",
       "        vertical-align: top;\n",
       "    }\n",
       "\n",
       "    .dataframe thead th {\n",
       "        text-align: right;\n",
       "    }\n",
       "</style>\n",
       "<table border=\"1\" class=\"dataframe\">\n",
       "  <thead>\n",
       "    <tr style=\"text-align: right;\">\n",
       "      <th></th>\n",
       "      <th>text</th>\n",
       "      <th>generated</th>\n",
       "    </tr>\n",
       "  </thead>\n",
       "  <tbody>\n",
       "    <tr>\n",
       "      <th>0</th>\n",
       "      <td>Phones\\n\\nModern humans today are always on th...</td>\n",
       "      <td>0</td>\n",
       "    </tr>\n",
       "    <tr>\n",
       "      <th>1</th>\n",
       "      <td>This essay will explain if drivers should or s...</td>\n",
       "      <td>0</td>\n",
       "    </tr>\n",
       "    <tr>\n",
       "      <th>2</th>\n",
       "      <td>Driving while the use of cellular devices\\n\\nT...</td>\n",
       "      <td>0</td>\n",
       "    </tr>\n",
       "    <tr>\n",
       "      <th>3</th>\n",
       "      <td>Phones &amp; Driving\\n\\nDrivers should not be able...</td>\n",
       "      <td>0</td>\n",
       "    </tr>\n",
       "    <tr>\n",
       "      <th>4</th>\n",
       "      <td>Cell Phone Operation While Driving\\n\\nThe abil...</td>\n",
       "      <td>0</td>\n",
       "    </tr>\n",
       "  </tbody>\n",
       "</table>\n",
       "</div>"
      ],
      "text/plain": [
       "                                                text  generated\n",
       "0  Phones\\n\\nModern humans today are always on th...          0\n",
       "1  This essay will explain if drivers should or s...          0\n",
       "2  Driving while the use of cellular devices\\n\\nT...          0\n",
       "3  Phones & Driving\\n\\nDrivers should not be able...          0\n",
       "4  Cell Phone Operation While Driving\\n\\nThe abil...          0"
      ]
     },
     "execution_count": 14,
     "metadata": {},
     "output_type": "execute_result"
    }
   ],
   "source": [
    "trn_essays_final_data = pd.concat([df_train_essays_ext[[\"text\", \"generated\"]], trn_data[[\"text\", \"generated\"]]])\n",
    "trn_essays_final_data.head()"
   ]
  },
  {
   "cell_type": "code",
   "execution_count": 15,
   "id": "12f4d9d6",
   "metadata": {
    "execution": {
     "iopub.execute_input": "2024-01-16T14:20:32.270155Z",
     "iopub.status.busy": "2024-01-16T14:20:32.269717Z",
     "iopub.status.idle": "2024-01-16T14:20:32.279684Z",
     "shell.execute_reply": "2024-01-16T14:20:32.278503Z"
    },
    "papermill": {
     "duration": 0.026061,
     "end_time": "2024-01-16T14:20:32.282052",
     "exception": false,
     "start_time": "2024-01-16T14:20:32.255991",
     "status": "completed"
    },
    "tags": []
   },
   "outputs": [
    {
     "data": {
      "text/plain": [
       "generated\n",
       "1    38140\n",
       "0    28746\n",
       "Name: count, dtype: int64"
      ]
     },
     "execution_count": 15,
     "metadata": {},
     "output_type": "execute_result"
    }
   ],
   "source": [
    "trn_essays_final_data['generated'].value_counts()"
   ]
  },
  {
   "cell_type": "code",
   "execution_count": 16,
   "id": "9a07d71f",
   "metadata": {
    "execution": {
     "iopub.execute_input": "2024-01-16T14:20:32.307957Z",
     "iopub.status.busy": "2024-01-16T14:20:32.307569Z",
     "iopub.status.idle": "2024-01-16T14:20:32.619260Z",
     "shell.execute_reply": "2024-01-16T14:20:32.617908Z"
    },
    "papermill": {
     "duration": 0.327695,
     "end_time": "2024-01-16T14:20:32.622044",
     "exception": false,
     "start_time": "2024-01-16T14:20:32.294349",
     "status": "completed"
    },
    "tags": []
   },
   "outputs": [
    {
     "data": {
      "text/plain": [
       "Text(0.5, 1.0, 'Distribution of Generated Text')"
      ]
     },
     "execution_count": 16,
     "metadata": {},
     "output_type": "execute_result"
    },
    {
     "data": {
      "image/png": "[encoded data removed]",
      "text/plain": [
       "<Figure size 1200x400 with 1 Axes>"
      ]
     },
     "metadata": {},
     "output_type": "display_data"
    }
   ],
   "source": [
    "f, ax = plt.subplots(figsize=(12, 4))\n",
    "\n",
    "sns.despine()\n",
    "ax = sns.countplot(data=trn_essays_final_data,\n",
    "                   x=\"generated\")\n",
    "\n",
    "abs_values = trn_essays_final_data['generated'].value_counts().values\n",
    "\n",
    "ax.bar_label(container=ax.containers[0], labels=abs_values)\n",
    "\n",
    "ax.set_title(\"Distribution of Generated Text\")"
   ]
  },
  {
   "cell_type": "markdown",
   "id": "aadf4cb5",
   "metadata": {
    "papermill": {
     "duration": 0.011964,
     "end_time": "2024-01-16T14:20:32.645854",
     "exception": false,
     "start_time": "2024-01-16T14:20:32.633890",
     "status": "completed"
    },
    "tags": []
   },
   "source": [
    "Now, finally we can see that the long difference between human and AI generated text is reduced."
   ]
  },
  {
   "cell_type": "code",
   "execution_count": 17,
   "id": "5e0b29e2",
   "metadata": {
    "execution": {
     "iopub.execute_input": "2024-01-16T14:20:32.672423Z",
     "iopub.status.busy": "2024-01-16T14:20:32.671973Z",
     "iopub.status.idle": "2024-01-16T14:20:32.679484Z",
     "shell.execute_reply": "2024-01-16T14:20:32.678371Z"
    },
    "papermill": {
     "duration": 0.023653,
     "end_time": "2024-01-16T14:20:32.681796",
     "exception": false,
     "start_time": "2024-01-16T14:20:32.658143",
     "status": "completed"
    },
    "tags": []
   },
   "outputs": [
    {
     "data": {
      "text/plain": [
       "(66886, 2)"
      ]
     },
     "execution_count": 17,
     "metadata": {},
     "output_type": "execute_result"
    }
   ],
   "source": [
    "trn_essays_final_data.shape"
   ]
  },
  {
   "cell_type": "code",
   "execution_count": 18,
   "id": "8a160451",
   "metadata": {
    "execution": {
     "iopub.execute_input": "2024-01-16T14:20:32.707846Z",
     "iopub.status.busy": "2024-01-16T14:20:32.707455Z",
     "iopub.status.idle": "2024-01-16T14:20:32.726455Z",
     "shell.execute_reply": "2024-01-16T14:20:32.725270Z"
    },
    "papermill": {
     "duration": 0.035196,
     "end_time": "2024-01-16T14:20:32.728921",
     "exception": false,
     "start_time": "2024-01-16T14:20:32.693725",
     "status": "completed"
    },
    "tags": []
   },
   "outputs": [
    {
     "data": {
      "text/plain": [
       "text         148\n",
       "generated      0\n",
       "dtype: int64"
      ]
     },
     "execution_count": 18,
     "metadata": {},
     "output_type": "execute_result"
    }
   ],
   "source": [
    "# Checking null existance in data\n",
    "trn_essays_final_data.isnull().sum()"
   ]
  },
  {
   "cell_type": "code",
   "execution_count": 19,
   "id": "c27fd36b",
   "metadata": {
    "execution": {
     "iopub.execute_input": "2024-01-16T14:20:32.756741Z",
     "iopub.status.busy": "2024-01-16T14:20:32.756360Z",
     "iopub.status.idle": "2024-01-16T14:20:32.777962Z",
     "shell.execute_reply": "2024-01-16T14:20:32.777054Z"
    },
    "papermill": {
     "duration": 0.037625,
     "end_time": "2024-01-16T14:20:32.780392",
     "exception": false,
     "start_time": "2024-01-16T14:20:32.742767",
     "status": "completed"
    },
    "tags": []
   },
   "outputs": [],
   "source": [
    "# Filling nulls with blank space\n",
    "trn_essays_final_data = trn_essays_final_data.fillna('')"
   ]
  },
  {
   "cell_type": "markdown",
   "id": "546fff93",
   "metadata": {
    "papermill": {
     "duration": 0.012349,
     "end_time": "2024-01-16T14:20:32.804798",
     "exception": false,
     "start_time": "2024-01-16T14:20:32.792449",
     "status": "completed"
    },
    "tags": []
   },
   "source": [
    "I am not doing any type of text cleaning as I think when classifying between the Human and AI text it should be presented as it is so that in real time it can predict with more preicision."
   ]
  },
  {
   "cell_type": "code",
   "execution_count": 20,
   "id": "2b14c77c",
   "metadata": {
    "execution": {
     "iopub.execute_input": "2024-01-16T14:20:32.897375Z",
     "iopub.status.busy": "2024-01-16T14:20:32.896882Z",
     "iopub.status.idle": "2024-01-16T14:21:14.955599Z",
     "shell.execute_reply": "2024-01-16T14:21:14.954353Z"
    },
    "papermill": {
     "duration": 42.140994,
     "end_time": "2024-01-16T14:21:14.958256",
     "exception": false,
     "start_time": "2024-01-16T14:20:32.817262",
     "status": "completed"
    },
    "tags": []
   },
   "outputs": [],
   "source": [
    "from sklearn.feature_extraction.text import TfidfVectorizer\n",
    "all_data = pd.concat([trn_essays_final_data['text'], tst_data['text']])\n",
    "\n",
    "# Fit the TfidfVectorizer on the entire dataset\n",
    "tfidf = TfidfVectorizer()\n",
    "tfidf.fit(all_data)\n",
    "vect_x_trn = tfidf.transform(trn_essays_final_data['text'])\n",
    "vect_tst_data = tfidf.transform(tst_data['text'])"
   ]
  },
  {
   "cell_type": "code",
   "execution_count": 21,
   "id": "121ee8d8",
   "metadata": {
    "execution": {
     "iopub.execute_input": "2024-01-16T14:21:14.985538Z",
     "iopub.status.busy": "2024-01-16T14:21:14.985123Z",
     "iopub.status.idle": "2024-01-16T14:21:15.181871Z",
     "shell.execute_reply": "2024-01-16T14:21:15.180408Z"
    },
    "papermill": {
     "duration": 0.213613,
     "end_time": "2024-01-16T14:21:15.184533",
     "exception": false,
     "start_time": "2024-01-16T14:21:14.970920",
     "status": "completed"
    },
    "tags": []
   },
   "outputs": [],
   "source": [
    "from sklearn.model_selection import train_test_split\n",
    "X_trn, X_tst, Y_trn, Y_tst = train_test_split(vect_x_trn, trn_essays_final_data['generated'], test_size=0.2, shuffle=True, random_state=41)"
   ]
  },
  {
   "cell_type": "code",
   "execution_count": 22,
   "id": "f979f6a2",
   "metadata": {
    "execution": {
     "iopub.execute_input": "2024-01-16T14:21:15.213691Z",
     "iopub.status.busy": "2024-01-16T14:21:15.213240Z",
     "iopub.status.idle": "2024-01-16T14:21:27.210301Z",
     "shell.execute_reply": "2024-01-16T14:21:27.208985Z"
    },
    "papermill": {
     "duration": 12.015644,
     "end_time": "2024-01-16T14:21:27.213355",
     "exception": false,
     "start_time": "2024-01-16T14:21:15.197711",
     "status": "completed"
    },
    "tags": []
   },
   "outputs": [
    {
     "data": {
      "text/html": [
       "<style>#sk-container-id-1 {color: black;background-color: white;}#sk-container-id-1 pre{padding: 0;}#sk-container-id-1 div.sk-toggleable {background-color: white;}#sk-container-id-1 label.sk-toggleable__label {cursor: pointer;display: block;width: 100%;margin-bottom: 0;padding: 0.3em;box-sizing: border-box;text-align: center;}#sk-container-id-1 label.sk-toggleable__label-arrow:before {content: \"▸\";float: left;margin-right: 0.25em;color: #696969;}#sk-container-id-1 label.sk-toggleable__label-arrow:hover:before {color: black;}#sk-container-id-1 div.sk-estimator:hover label.sk-toggleable__label-arrow:before {color: black;}#sk-container-id-1 div.sk-toggleable__content {max-height: 0;max-width: 0;overflow: hidden;text-align: left;background-color: #f0f8ff;}#sk-container-id-1 div.sk-toggleable__content pre {margin: 0.2em;color: black;border-radius: 0.25em;background-color: #f0f8ff;}#sk-container-id-1 input.sk-toggleable__control:checked~div.sk-toggleable__content {max-height: 200px;max-width: 100%;overflow: auto;}#sk-container-id-1 input.sk-toggleable__control:checked~label.sk-toggleable__label-arrow:before {content: \"▾\";}#sk-container-id-1 div.sk-estimator input.sk-toggleable__control:checked~label.sk-toggleable__label {background-color: #d4ebff;}#sk-container-id-1 div.sk-label input.sk-toggleable__control:checked~label.sk-toggleable__label {background-color: #d4ebff;}#sk-container-id-1 input.sk-hidden--visually {border: 0;clip: rect(1px 1px 1px 1px);clip: rect(1px, 1px, 1px, 1px);height: 1px;margin: -1px;overflow: hidden;padding: 0;position: absolute;width: 1px;}#sk-container-id-1 div.sk-estimator {font-family: monospace;background-color: #f0f8ff;border: 1px dotted black;border-radius: 0.25em;box-sizing: border-box;margin-bottom: 0.5em;}#sk-container-id-1 div.sk-estimator:hover {background-color: #d4ebff;}#sk-container-id-1 div.sk-parallel-item::after {content: \"\";width: 100%;border-bottom: 1px solid gray;flex-grow: 1;}#sk-container-id-1 div.sk-label:hover label.sk-toggleable__label {background-color: #d4ebff;}#sk-container-id-1 div.sk-serial::before {content: \"\";position: absolute;border-left: 1px solid gray;box-sizing: border-box;top: 0;bottom: 0;left: 50%;z-index: 0;}#sk-container-id-1 div.sk-serial {display: flex;flex-direction: column;align-items: center;background-color: white;padding-right: 0.2em;padding-left: 0.2em;position: relative;}#sk-container-id-1 div.sk-item {position: relative;z-index: 1;}#sk-container-id-1 div.sk-parallel {display: flex;align-items: stretch;justify-content: center;background-color: white;position: relative;}#sk-container-id-1 div.sk-item::before, #sk-container-id-1 div.sk-parallel-item::before {content: \"\";position: absolute;border-left: 1px solid gray;box-sizing: border-box;top: 0;bottom: 0;left: 50%;z-index: -1;}#sk-container-id-1 div.sk-parallel-item {display: flex;flex-direction: column;z-index: 1;position: relative;background-color: white;}#sk-container-id-1 div.sk-parallel-item:first-child::after {align-self: flex-end;width: 50%;}#sk-container-id-1 div.sk-parallel-item:last-child::after {align-self: flex-start;width: 50%;}#sk-container-id-1 div.sk-parallel-item:only-child::after {width: 0;}#sk-container-id-1 div.sk-dashed-wrapped {border: 1px dashed gray;margin: 0 0.4em 0.5em 0.4em;box-sizing: border-box;padding-bottom: 0.4em;background-color: white;}#sk-container-id-1 div.sk-label label {font-family: monospace;font-weight: bold;display: inline-block;line-height: 1.2em;}#sk-container-id-1 div.sk-label-container {text-align: center;}#sk-container-id-1 div.sk-container {/* jupyter's `normalize.less` sets `[hidden] { display: none; }` but bootstrap.min.css set `[hidden] { display: none !important; }` so we also need the `!important` here to be able to override the default hidden behavior on the sphinx rendered scikit-learn.org. See: https://github.com/scikit-learn/scikit-learn/issues/21755 */display: inline-block !important;position: relative;}#sk-container-id-1 div.sk-text-repr-fallback {display: none;}</style><div id=\"sk-container-id-1\" class=\"sk-top-container\"><div class=\"sk-text-repr-fallback\"><pre>LogisticRegression()</pre><b>In a Jupyter environment, please rerun this cell to show the HTML representation or trust the notebook. <br />On GitHub, the HTML representation is unable to render, please try loading this page with nbviewer.org.</b></div><div class=\"sk-container\" hidden><div class=\"sk-item\"><div class=\"sk-estimator sk-toggleable\"><input class=\"sk-toggleable__control sk-hidden--visually\" id=\"sk-estimator-id-1\" type=\"checkbox\" checked><label for=\"sk-estimator-id-1\" class=\"sk-toggleable__label sk-toggleable__label-arrow\">LogisticRegression</label><div class=\"sk-toggleable__content\"><pre>LogisticRegression()</pre></div></div></div></div></div>"
      ],
      "text/plain": [
       "LogisticRegression()"
      ]
     },
     "execution_count": 22,
     "metadata": {},
     "output_type": "execute_result"
    }
   ],
   "source": [
    "from sklearn.linear_model import LogisticRegression\n",
    "\n",
    "logreg = LogisticRegression()\n",
    "logreg.fit(X_trn, Y_trn)"
   ]
  },
  {
   "cell_type": "code",
   "execution_count": 23,
   "id": "2dc3381f",
   "metadata": {
    "execution": {
     "iopub.execute_input": "2024-01-16T14:21:27.257429Z",
     "iopub.status.busy": "2024-01-16T14:21:27.256740Z",
     "iopub.status.idle": "2024-01-16T14:21:27.290862Z",
     "shell.execute_reply": "2024-01-16T14:21:27.287375Z"
    },
    "papermill": {
     "duration": 0.060308,
     "end_time": "2024-01-16T14:21:27.294534",
     "exception": false,
     "start_time": "2024-01-16T14:21:27.234226",
     "status": "completed"
    },
    "tags": []
   },
   "outputs": [
    {
     "name": "stdout",
     "output_type": "stream",
     "text": [
      "F1 Score: 99.05316824471959\n"
     ]
    }
   ],
   "source": [
    "from sklearn.metrics import f1_score\n",
    "log_pred = logreg.predict(X_tst)\n",
    "print(f'F1 Score: {f1_score(Y_tst, log_pred)*100}')"
   ]
  },
  {
   "cell_type": "code",
   "execution_count": 24,
   "id": "c5adf5dc",
   "metadata": {
    "execution": {
     "iopub.execute_input": "2024-01-16T14:21:27.326059Z",
     "iopub.status.busy": "2024-01-16T14:21:27.324998Z",
     "iopub.status.idle": "2024-01-16T14:21:27.336850Z",
     "shell.execute_reply": "2024-01-16T14:21:27.335747Z"
    },
    "papermill": {
     "duration": 0.028896,
     "end_time": "2024-01-16T14:21:27.339460",
     "exception": false,
     "start_time": "2024-01-16T14:21:27.310564",
     "status": "completed"
    },
    "tags": []
   },
   "outputs": [],
   "source": [
    "samp = pd.read_csv('/kaggle/input/llm-detect-ai-generated-text/sample_submission.csv')"
   ]
  },
  {
   "cell_type": "code",
   "execution_count": 25,
   "id": "dfee796d",
   "metadata": {
    "execution": {
     "iopub.execute_input": "2024-01-16T14:21:27.368107Z",
     "iopub.status.busy": "2024-01-16T14:21:27.366762Z",
     "iopub.status.idle": "2024-01-16T14:21:27.378425Z",
     "shell.execute_reply": "2024-01-16T14:21:27.377247Z"
    },
    "papermill": {
     "duration": 0.031921,
     "end_time": "2024-01-16T14:21:27.384439",
     "exception": false,
     "start_time": "2024-01-16T14:21:27.352518",
     "status": "completed"
    },
    "tags": []
   },
   "outputs": [],
   "source": [
    "final_pred = logreg.predict_proba(vect_tst_data)[:, 1]\n",
    "samp['generated'] = final_pred\n",
    "samp.to_csv('submission.csv', index=False)"
   ]
  },
  {
   "cell_type": "code",
   "execution_count": 26,
   "id": "df0c9cd2",
   "metadata": {
    "execution": {
     "iopub.execute_input": "2024-01-16T14:21:27.429251Z",
     "iopub.status.busy": "2024-01-16T14:21:27.428211Z",
     "iopub.status.idle": "2024-01-16T14:21:27.438404Z",
     "shell.execute_reply": "2024-01-16T14:21:27.437327Z"
    },
    "papermill": {
     "duration": 0.034838,
     "end_time": "2024-01-16T14:21:27.441199",
     "exception": false,
     "start_time": "2024-01-16T14:21:27.406361",
     "status": "completed"
    },
    "tags": []
   },
   "outputs": [
    {
     "data": {
      "text/html": [
       "<div>\n",
       "<style scoped>\n",
       "    .dataframe tbody tr th:only-of-type {\n",
       "        vertical-align: middle;\n",
       "    }\n",
       "\n",
       "    .dataframe tbody tr th {\n",
       "        vertical-align: top;\n",
       "    }\n",
       "\n",
       "    .dataframe thead th {\n",
       "        text-align: right;\n",
       "    }\n",
       "</style>\n",
       "<table border=\"1\" class=\"dataframe\">\n",
       "  <thead>\n",
       "    <tr style=\"text-align: right;\">\n",
       "      <th></th>\n",
       "      <th>id</th>\n",
       "      <th>generated</th>\n",
       "    </tr>\n",
       "  </thead>\n",
       "  <tbody>\n",
       "    <tr>\n",
       "      <th>0</th>\n",
       "      <td>0000aaaa</td>\n",
       "      <td>0.962999</td>\n",
       "    </tr>\n",
       "    <tr>\n",
       "      <th>1</th>\n",
       "      <td>1111bbbb</td>\n",
       "      <td>0.963637</td>\n",
       "    </tr>\n",
       "    <tr>\n",
       "      <th>2</th>\n",
       "      <td>2222cccc</td>\n",
       "      <td>0.963637</td>\n",
       "    </tr>\n",
       "  </tbody>\n",
       "</table>\n",
       "</div>"
      ],
      "text/plain": [
       "         id  generated\n",
       "0  0000aaaa   0.962999\n",
       "1  1111bbbb   0.963637\n",
       "2  2222cccc   0.963637"
      ]
     },
     "execution_count": 26,
     "metadata": {},
     "output_type": "execute_result"
    }
   ],
   "source": [
    "samp"
   ]
  }
 ],
 "metadata": {
  "kaggle": {
   "accelerator": "none",
   "dataSources": [
    {
     "databundleVersionId": 6888007,
     "sourceId": 61542,
     "sourceType": "competition"
    },
    {
     "datasetId": 4210720,
     "sourceId": 7294503,
     "sourceType": "datasetVersion"
    },
    {
     "modelInstanceId": 4689,
     "sourceId": 5916,
     "sourceType": "modelInstanceVersion"
    }
   ],
   "dockerImageVersionId": 30626,
   "isGpuEnabled": false,
   "isInternetEnabled": false,
   "language": "python",
   "sourceType": "notebook"
  },
  "kernelspec": {
   "display_name": "Python 3",
   "language": "python",
   "name": "python3"
  },
  "language_info": {
   "codemirror_mode": {
    "name": "ipython",
    "version": 3
   },
   "file_extension": ".py",
   "mimetype": "text/x-python",
   "name": "python",
   "nbconvert_exporter": "python",
   "pygments_lexer": "ipython3",
   "version": "3.10.12"
  },
  "papermill": {
   "default_parameters": {},
   "duration": 85.494703,
   "end_time": "2024-01-16T14:21:29.189490",
   "environment_variables": {},
   "exception": null,
   "input_path": "__notebook__.ipynb",
   "output_path": "__notebook__.ipynb",
   "parameters": {},
   "start_time": "2024-01-16T14:20:03.694787",
   "version": "2.4.0"
  }
 },
 "nbformat": 4,
 "nbformat_minor": 5
}
